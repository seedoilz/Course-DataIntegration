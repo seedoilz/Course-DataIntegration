{
 "cells": [
  {
   "cell_type": "code",
   "execution_count": 56,
   "metadata": {
    "collapsed": true,
    "ExecuteTime": {
     "end_time": "2023-05-05T13:28:12.821511200Z",
     "start_time": "2023-05-05T13:28:06.023417100Z"
    }
   },
   "outputs": [
    {
     "name": "stdout",
     "output_type": "stream",
     "text": [
      "35 --> 0\n",
      "50 --> 1\n",
      "60 --> 2\n",
      "70 --> 3\n",
      "85 --> 4\n",
      "准确率为 0.9633147603033224\n",
      "精确率为 0.957026256269053\n",
      "召回率为 0.8455545355692532\n",
      "F1分数为 0.8913416340143352\n",
      "Cohen's Kappa分数为 0.9203203653612596\n"
     ]
    }
   ],
   "source": [
    "from sklearn.preprocessing import LabelEncoder\n",
    "import joblib\n",
    "import pandas as pd\n",
    "from sklearn.metrics import precision_score, accuracy_score, recall_score, f1_score, cohen_kappa_score\n",
    "\n",
    "model = joblib.load(filename='random_forest_model_credit.joblib')\n",
    "df = pd.read_csv(\"./credit_train.csv\")\n",
    "\n",
    "df = df.drop(\"Unnamed: 0\", axis=1)\n",
    "df = df.drop(\"Unnamed: 0.1\", axis=1)\n",
    "X = df.drop(\"credit_level\", axis=1)\n",
    "X = X.drop(\"uid\", axis=1)\n",
    "X = pd.DataFrame(X)\n",
    "\n",
    "y=df[\"credit_level\"]\n",
    "le = LabelEncoder()\n",
    "y = le.fit_transform(y)\n",
    "for i, j in enumerate(le.classes_):\n",
    "    print('{} --> {}'.format(j,i))\n",
    "\n",
    "y_pred = model.predict(X)\n",
    "y_pred = le.fit_transform(y_pred)\n",
    "\n",
    "p = precision_score(y, y_pred, average='macro')\n",
    "a = accuracy_score(y, y_pred)\n",
    "r = recall_score(y, y_pred, average='macro')\n",
    "f = f1_score(y, y_pred, average='macro')\n",
    "c = cohen_kappa_score(y, y_pred)\n",
    "y_pred = le.inverse_transform(y_pred)\n",
    "print(\"准确率为\",p)\n",
    "print(\"精确率为\",a)\n",
    "print(\"召回率为\",r)\n",
    "print(\"F1分数为\",f)\n",
    "print(\"Cohen's Kappa分数为\",c)\n"
   ]
  },
  {
   "cell_type": "code",
   "execution_count": 60,
   "outputs": [],
   "source": [
    "credit_test = pd.read_csv(\"./credit_test.csv\")\n",
    "credit_test = credit_test.drop(\"Unnamed: 0\", axis=1)\n",
    "credit_test = credit_test.drop(\"Unnamed: 0.1\", axis=1)\n",
    "X = credit_test.drop(\"credit_level\", axis=1)\n",
    "X = X.drop(\"uid\", axis=1)\n",
    "X = pd.DataFrame(X)\n",
    "\n",
    "y_pred = model.predict(X)\n",
    "y_pred = y_pred.astype(int)\n",
    "credit_test['credit_level'] = y_pred\n",
    "credit_test.to_csv('credit_test_random_forest.csv', index=False)"
   ],
   "metadata": {
    "collapsed": false,
    "ExecuteTime": {
     "end_time": "2023-05-05T13:39:45.853112100Z",
     "start_time": "2023-05-05T13:39:42.420682Z"
    }
   }
  }
 ],
 "metadata": {
  "kernelspec": {
   "display_name": "Python 3",
   "language": "python",
   "name": "python3"
  },
  "language_info": {
   "codemirror_mode": {
    "name": "ipython",
    "version": 2
   },
   "file_extension": ".py",
   "mimetype": "text/x-python",
   "name": "python",
   "nbconvert_exporter": "python",
   "pygments_lexer": "ipython2",
   "version": "2.7.6"
  }
 },
 "nbformat": 4,
 "nbformat_minor": 0
}
