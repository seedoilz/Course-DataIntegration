{
 "cells": [
  {
   "cell_type": "code",
   "execution_count": 1,
   "id": "76236941",
   "metadata": {
    "ExecuteTime": {
     "end_time": "2023-04-22T15:51:03.715744Z",
     "start_time": "2023-04-22T15:50:56.651397Z"
    }
   },
   "outputs": [],
   "source": [
    "import pandas as pd\n",
    "import featuretools as ft"
   ]
  },
  {
   "cell_type": "code",
   "execution_count": 2,
   "id": "61e708b4",
   "metadata": {
    "ExecuteTime": {
     "end_time": "2023-04-22T15:51:21.449600Z",
     "start_time": "2023-04-22T15:51:09.991376Z"
    }
   },
   "outputs": [],
   "source": [
    "dm_v_as_djk_info = pd.read_csv(\"./dm_v_as_djk_info.csv\")\n",
    "dm_v_as_djkfq_info = pd.read_csv(\"./dm_v_as_djkfq_info.csv\")\n",
    "dm_v_tr_contract_mx = pd.read_csv(\"./dm_v_tr_contract_mx.csv\")\n",
    "dm_v_tr_djk_mx = pd.read_csv(\"./dm_v_tr_djk_mx.csv\")\n",
    "dm_v_tr_dsf_mx = pd.read_csv(\"./dm_v_tr_dsf_mx.csv\")\n",
    "dm_v_tr_duebill_mx = pd.read_csv(\"./dm_v_tr_duebill_mx.csv\")\n",
    "dm_v_tr_huanb_mx = pd.read_csv(\"./dm_v_tr_huanb_mx.csv\")\n",
    "dm_v_tr_huanx_mx = pd.read_csv(\"./dm_v_tr_huanx_mx.csv\")\n",
    "dm_v_tr_sa_mx = pd.read_csv(\"./dm_v_tr_sa_mx.csv\")\n",
    "pri_cust_asset_acct_info = pd.read_csv(\"./pri_cust_asset_acct_info.csv\")\n",
    "pri_cust_asset_info = pd.read_csv(\"./pri_cust_asset_info.csv\")\n",
    "pri_cust_base_info = pd.read_csv(\"./pri_cust_base_info.csv\")\n",
    "pri_cust_liab_acct_info = pd.read_csv(\"./pri_cust_liab_acct_info.csv\")\n",
    "pri_credit_info = pd.read_csv(\"./pri_credit_info.csv\")\n",
    "\n",
    "dm_v_tr_etc_mx = pd.read_csv(\"./ano/dm_v_tr_etc_mx.csv\")\n",
    "# dm_v_tr_grwy_mx = pd.read_csv(\"./ano/dm_v_tr_grwy_mx.csv\")\n",
    "dm_v_tr_gzdf_mx = pd.read_csv(\"./ano/dm_v_tr_gzdf_mx.csv\")\n",
    "dm_v_tr_sbyb_mx = pd.read_csv(\"./ano/dm_v_tr_sbyb_mx.csv\")\n",
    "dm_v_tr_sdrq_mx = pd.read_csv(\"./ano/dm_v_tr_sdrq_mx.csv\")\n",
    "dm_v_tr_sjyh_mx = pd.read_csv(\"./ano/dm_v_tr_sjyh_mx.csv\")\n",
    "pri_cust_liab_info = pd.read_csv(\"./ano/pri_cust_liab_info.csv\")\n",
    "pri_star_info = pd.read_csv(\"./ano/pri_star_info.csv\")\n",
    "v_tr_shop_mx = pd.read_csv(\"./ano/v_tr_shop_mx.csv\")\n",
    "\n",
    "dm_v_tr_duebill_mx.drop_duplicates()\n",
    "\n",
    "dm_v_as_djk_info['index_column'] = range(len(dm_v_as_djk_info))\n",
    "dm_v_as_djkfq_info['index_column'] = range(len(dm_v_as_djkfq_info))\n",
    "dm_v_tr_contract_mx['index_column'] = range(len(dm_v_tr_contract_mx))\n",
    "dm_v_tr_djk_mx['index_column'] = range(len(dm_v_tr_djk_mx))\n",
    "dm_v_tr_dsf_mx['index_column'] = range(len(dm_v_tr_dsf_mx))\n",
    "dm_v_tr_duebill_mx['index_column'] = range(len(dm_v_tr_duebill_mx))\n",
    "dm_v_tr_huanb_mx['index_column'] = range(len(dm_v_tr_huanb_mx))\n",
    "dm_v_tr_huanx_mx['index_column'] = range(len(dm_v_tr_huanx_mx))\n",
    "dm_v_tr_sa_mx['index_column'] = range(len(dm_v_tr_sa_mx))\n",
    "pri_cust_asset_acct_info['index_column'] = range(len(pri_cust_asset_acct_info))\n",
    "pri_cust_asset_info['index_column'] = range(len(pri_cust_asset_info))\n",
    "pri_cust_base_info['index_column'] = range(len(pri_cust_base_info))\n",
    "pri_cust_liab_acct_info['index_column'] = range(len(pri_cust_liab_acct_info))\n",
    "dm_v_tr_etc_mx['index_column'] = range(len(dm_v_tr_etc_mx))\n",
    "# dm_v_tr_grwy_mx['index_column'] = range(len(dm_v_tr_grwy_mx))\n",
    "dm_v_tr_gzdf_mx['index_column'] = range(len(dm_v_tr_gzdf_mx))\n",
    "dm_v_tr_sbyb_mx['index_column'] = range(len(dm_v_tr_sbyb_mx))\n",
    "dm_v_tr_sdrq_mx['index_column'] = range(len(dm_v_tr_sdrq_mx))\n",
    "dm_v_tr_sjyh_mx['index_column'] = range(len(dm_v_tr_sjyh_mx))\n",
    "pri_cust_liab_info['index_column'] = range(len(pri_cust_liab_info))\n",
    "v_tr_shop_mx['index_column'] = range(len(v_tr_shop_mx))\n",
    "pri_credit_info['index_column'] = range(len(pri_credit_info))"
   ]
  },
  {
   "cell_type": "code",
   "execution_count": 3,
   "id": "db72f066",
   "metadata": {},
   "outputs": [
    {
     "data": {
      "text/plain": [
       "Entityset: my_set\n",
       "  Entities:\n",
       "    pri_credit_info [Rows: 38309, Columns: 3]\n",
       "    pri_star_info [Rows: 290658, Columns: 2]\n",
       "    dm_v_as_djk_info [Rows: 19320, Columns: 14]\n",
       "    dm_v_as_djkfq_info [Rows: 473, Columns: 12]\n",
       "    dm_v_tr_contract_mx [Rows: 165991, Columns: 29]\n",
       "    dm_v_tr_djk_mx [Rows: 518217, Columns: 5]\n",
       "    dm_v_tr_dsf_mx [Rows: 13103, Columns: 5]\n",
       "    dm_v_tr_duebill_mx [Rows: 148617, Columns: 21]\n",
       "    dm_v_tr_huanb_mx [Rows: 128342, Columns: 8]\n",
       "    dm_v_tr_huanx_mx [Rows: 256886, Columns: 7]\n",
       "    dm_v_tr_sa_mx [Rows: 21535038, Columns: 3]\n",
       "    pri_cust_asset_acct_info [Rows: 263694, Columns: 13]\n",
       "    pri_cust_asset_info [Rows: 344128, Columns: 22]\n",
       "    pri_cust_base_info [Rows: 376186, Columns: 10]\n",
       "    pri_cust_liab_acct_info [Rows: 4578250, Columns: 22]\n",
       "    dm_v_tr_etc_mx [Rows: 370850, Columns: 3]\n",
       "    dm_v_tr_gzdf_mx [Rows: 575834, Columns: 4]\n",
       "    dm_v_tr_sbyb_mx [Rows: 424312, Columns: 3]\n",
       "    dm_v_tr_sdrq_mx [Rows: 81414, Columns: 3]\n",
       "    dm_v_tr_sjyh_mx [Rows: 444641, Columns: 4]\n",
       "    pri_cust_liab_info [Rows: 1012967, Columns: 6]\n",
       "    v_tr_shop_mx [Rows: 839697, Columns: 4]\n",
       "  Relationships:\n",
       "    No relationships"
      ]
     },
     "execution_count": 3,
     "metadata": {},
     "output_type": "execute_result"
    }
   ],
   "source": [
    "es = ft.EntitySet(id = \"my_set\")\n",
    "es.entity_from_dataframe(entity_id='pri_credit_info',dataframe=pri_credit_info,index='index_column')\n",
    "es.entity_from_dataframe(entity_id='pri_star_info',dataframe=pri_star_info,index='uid')\n",
    "\n",
    "es.entity_from_dataframe(entity_id='dm_v_as_djk_info',dataframe=dm_v_as_djk_info,index='index_column')\n",
    "es.entity_from_dataframe(entity_id='dm_v_as_djkfq_info',dataframe=dm_v_as_djkfq_info,index='index_column')\n",
    "es.entity_from_dataframe(entity_id='dm_v_tr_contract_mx',dataframe=dm_v_tr_contract_mx,index='index_column')\n",
    "es.entity_from_dataframe(entity_id='dm_v_tr_djk_mx',dataframe=dm_v_tr_djk_mx,index='index_column')\n",
    "es.entity_from_dataframe(entity_id='dm_v_tr_dsf_mx',dataframe=dm_v_tr_dsf_mx,index='index_column')\n",
    "es.entity_from_dataframe(entity_id='dm_v_tr_duebill_mx',dataframe=dm_v_tr_duebill_mx,index='index_column')\n",
    "es.entity_from_dataframe(entity_id='dm_v_tr_huanb_mx',dataframe=dm_v_tr_huanb_mx,index='index_column')\n",
    "es.entity_from_dataframe(entity_id='dm_v_tr_huanx_mx',dataframe=dm_v_tr_huanx_mx,index='index_column')\n",
    "es.entity_from_dataframe(entity_id='dm_v_tr_sa_mx',dataframe=dm_v_tr_sa_mx,index='index_column')\n",
    "es.entity_from_dataframe(entity_id='pri_cust_asset_acct_info',dataframe=pri_cust_asset_acct_info,index='index_column')\n",
    "es.entity_from_dataframe(entity_id='pri_cust_asset_info',dataframe=pri_cust_asset_info,index='index_column')\n",
    "es.entity_from_dataframe(entity_id='pri_cust_base_info',dataframe=pri_cust_base_info,index='index_column')\n",
    "es.entity_from_dataframe(entity_id='pri_cust_liab_acct_info',dataframe=pri_cust_liab_acct_info,index='index_column')\n",
    "es.entity_from_dataframe(entity_id='dm_v_tr_etc_mx',dataframe=dm_v_tr_etc_mx,index='index_column')\n",
    "# es.entity_from_dataframe(entity_id='dm_v_tr_grwy_mx',dataframe=dm_v_tr_grwy_mx,index='index_column')\n",
    "es.entity_from_dataframe(entity_id='dm_v_tr_gzdf_mx',dataframe=dm_v_tr_gzdf_mx,index='index_column')\n",
    "es.entity_from_dataframe(entity_id='dm_v_tr_sbyb_mx',dataframe=dm_v_tr_sbyb_mx,index='index_column')\n",
    "es.entity_from_dataframe(entity_id='dm_v_tr_sdrq_mx',dataframe=dm_v_tr_sdrq_mx,index='index_column')\n",
    "es.entity_from_dataframe(entity_id='dm_v_tr_sjyh_mx',dataframe=dm_v_tr_sjyh_mx,index='index_column')\n",
    "es.entity_from_dataframe(entity_id='pri_cust_liab_info',dataframe=pri_cust_liab_info,index='index_column')\n",
    "es.entity_from_dataframe(entity_id='v_tr_shop_mx',dataframe=v_tr_shop_mx,index='index_column')"
   ]
  },
  {
   "cell_type": "code",
   "execution_count": 4,
   "id": "f115794d",
   "metadata": {},
   "outputs": [
    {
     "data": {
      "text/plain": [
       "Entityset: my_set\n",
       "  Entities:\n",
       "    pri_credit_info [Rows: 38309, Columns: 3]\n",
       "    pri_star_info [Rows: 290658, Columns: 2]\n",
       "    dm_v_as_djk_info [Rows: 19320, Columns: 14]\n",
       "    dm_v_as_djkfq_info [Rows: 473, Columns: 12]\n",
       "    dm_v_tr_contract_mx [Rows: 165991, Columns: 29]\n",
       "    dm_v_tr_djk_mx [Rows: 518217, Columns: 5]\n",
       "    dm_v_tr_dsf_mx [Rows: 13103, Columns: 5]\n",
       "    dm_v_tr_duebill_mx [Rows: 148617, Columns: 21]\n",
       "    dm_v_tr_huanb_mx [Rows: 128342, Columns: 8]\n",
       "    dm_v_tr_huanx_mx [Rows: 256886, Columns: 7]\n",
       "    dm_v_tr_sa_mx [Rows: 21535038, Columns: 3]\n",
       "    pri_cust_asset_acct_info [Rows: 263694, Columns: 13]\n",
       "    pri_cust_asset_info [Rows: 344128, Columns: 22]\n",
       "    pri_cust_base_info [Rows: 376186, Columns: 10]\n",
       "    pri_cust_liab_acct_info [Rows: 4578250, Columns: 22]\n",
       "    dm_v_tr_etc_mx [Rows: 370850, Columns: 3]\n",
       "    dm_v_tr_gzdf_mx [Rows: 575834, Columns: 4]\n",
       "    dm_v_tr_sbyb_mx [Rows: 424312, Columns: 3]\n",
       "    dm_v_tr_sdrq_mx [Rows: 81414, Columns: 3]\n",
       "    dm_v_tr_sjyh_mx [Rows: 444641, Columns: 4]\n",
       "    pri_cust_liab_info [Rows: 1012967, Columns: 6]\n",
       "    v_tr_shop_mx [Rows: 839697, Columns: 4]\n",
       "  Relationships:\n",
       "    dm_v_as_djk_info.uid -> pri_star_info.uid\n",
       "    dm_v_as_djkfq_info.uid -> pri_star_info.uid\n",
       "    dm_v_tr_contract_mx.uid -> pri_star_info.uid\n",
       "    dm_v_tr_djk_mx.uid -> pri_star_info.uid\n",
       "    dm_v_tr_dsf_mx.uid -> pri_star_info.uid\n",
       "    dm_v_tr_duebill_mx.uid -> pri_star_info.uid\n",
       "    dm_v_tr_huanb_mx.uid -> pri_star_info.uid\n",
       "    dm_v_tr_huanx_mx.uid -> pri_star_info.uid\n",
       "    dm_v_tr_sa_mx.uid -> pri_star_info.uid\n",
       "    pri_cust_asset_acct_info.uid -> pri_star_info.uid\n",
       "    pri_cust_asset_info.uid -> pri_star_info.uid\n",
       "    pri_cust_base_info.uid -> pri_star_info.uid\n",
       "    pri_cust_liab_acct_info.uid -> pri_star_info.uid\n",
       "    dm_v_tr_etc_mx.uid -> pri_star_info.uid\n",
       "    dm_v_tr_gzdf_mx.uid -> pri_star_info.uid\n",
       "    dm_v_tr_sbyb_mx.uid -> pri_star_info.uid\n",
       "    dm_v_tr_sdrq_mx.uid -> pri_star_info.uid\n",
       "    dm_v_tr_sjyh_mx.uid -> pri_star_info.uid\n",
       "    pri_cust_liab_info.uid -> pri_star_info.uid\n",
       "    v_tr_shop_mx.uid -> pri_star_info.uid\n",
       "    pri_credit_info.uid -> pri_star_info.uid"
      ]
     },
     "execution_count": 4,
     "metadata": {},
     "output_type": "execute_result"
    }
   ],
   "source": [
    "relationships = [\n",
    "    ft.Relationship(es[\"pri_star_info\"][\"uid\"], es[\"dm_v_as_djk_info\"][\"uid\"]),\n",
    "    ft.Relationship(es[\"pri_star_info\"][\"uid\"], es[\"dm_v_as_djkfq_info\"][\"uid\"]),\n",
    "    ft.Relationship(es[\"pri_star_info\"][\"uid\"], es[\"dm_v_tr_contract_mx\"][\"uid\"]),\n",
    "    ft.Relationship(es[\"pri_star_info\"][\"uid\"], es[\"dm_v_tr_djk_mx\"][\"uid\"]),\n",
    "    ft.Relationship(es[\"pri_star_info\"][\"uid\"], es[\"dm_v_tr_dsf_mx\"][\"uid\"]),\n",
    "    ft.Relationship(es[\"pri_star_info\"][\"uid\"], es[\"dm_v_tr_duebill_mx\"][\"uid\"]),\n",
    "    ft.Relationship(es[\"pri_star_info\"][\"uid\"], es[\"dm_v_tr_huanb_mx\"][\"uid\"]),\n",
    "    ft.Relationship(es[\"pri_star_info\"][\"uid\"], es[\"dm_v_tr_huanx_mx\"][\"uid\"]),\n",
    "    ft.Relationship(es[\"pri_star_info\"][\"uid\"], es[\"dm_v_tr_sa_mx\"][\"uid\"]),\n",
    "    ft.Relationship(es[\"pri_star_info\"][\"uid\"], es[\"pri_cust_asset_acct_info\"][\"uid\"]),\n",
    "    ft.Relationship(es[\"pri_star_info\"][\"uid\"], es[\"pri_cust_asset_info\"][\"uid\"]),\n",
    "    ft.Relationship(es[\"pri_star_info\"][\"uid\"], es[\"pri_cust_base_info\"][\"uid\"]),\n",
    "    ft.Relationship(es[\"pri_star_info\"][\"uid\"], es[\"pri_cust_liab_acct_info\"][\"uid\"]),\n",
    "    ft.Relationship(es[\"pri_star_info\"][\"uid\"], es[\"dm_v_tr_etc_mx\"][\"uid\"]),\n",
    "#     ft.Relationship(es[\"pri_credit_info\"][\"uid\"], es[\"dm_v_tr_grwy_mx\"][\"uid\"]),\n",
    "    ft.Relationship(es[\"pri_star_info\"][\"uid\"], es[\"dm_v_tr_gzdf_mx\"][\"uid\"]),\n",
    "    ft.Relationship(es[\"pri_star_info\"][\"uid\"], es[\"dm_v_tr_sbyb_mx\"][\"uid\"]),\n",
    "    ft.Relationship(es[\"pri_star_info\"][\"uid\"], es[\"dm_v_tr_sdrq_mx\"][\"uid\"]),\n",
    "    ft.Relationship(es[\"pri_star_info\"][\"uid\"], es[\"dm_v_tr_sjyh_mx\"][\"uid\"]),\n",
    "    ft.Relationship(es[\"pri_star_info\"][\"uid\"], es[\"pri_cust_liab_info\"][\"uid\"]),\n",
    "    ft.Relationship(es[\"pri_star_info\"][\"uid\"], es[\"v_tr_shop_mx\"][\"uid\"]),\n",
    "    ft.Relationship(es[\"pri_star_info\"][\"uid\"], es[\"pri_credit_info\"][\"uid\"]),\n",
    "]\n",
    "es.add_relationships(relationships)"
   ]
  },
  {
   "cell_type": "code",
   "execution_count": null,
   "id": "07e50d7c",
   "metadata": {},
   "outputs": [],
   "source": [
    "feature_matrix, features_defs = ft.dfs(\n",
    "    entityset=es,\n",
    "    target_entity='pri_star_info',\n",
    ")\n",
    "feature_matrix"
   ]
  },
  {
   "cell_type": "code",
   "execution_count": 14,
   "id": "a8e38030",
   "metadata": {},
   "outputs": [
    {
     "name": "stdout",
     "output_type": "stream",
     "text": [
      "<class 'pandas.core.frame.DataFrame'>\n"
     ]
    }
   ],
   "source": [
    "print(type(feature_matrix))"
   ]
  },
  {
   "cell_type": "code",
   "execution_count": 6,
   "id": "43fdaa95",
   "metadata": {},
   "outputs": [],
   "source": [
    "feature_matrix.to_csv('./result.csv',sep=',',index=True,header=True)"
   ]
  },
  {
   "cell_type": "code",
   "execution_count": null,
   "id": "c77c966c",
   "metadata": {},
   "outputs": [],
   "source": []
  }
 ],
 "metadata": {
  "kernelspec": {
   "display_name": "Python 3 (ipykernel)",
   "language": "python",
   "name": "python3"
  },
  "language_info": {
   "codemirror_mode": {
    "name": "ipython",
    "version": 3
   },
   "file_extension": ".py",
   "mimetype": "text/x-python",
   "name": "python",
   "nbconvert_exporter": "python",
   "pygments_lexer": "ipython3",
   "version": "3.8.16"
  }
 },
 "nbformat": 4,
 "nbformat_minor": 5
}
