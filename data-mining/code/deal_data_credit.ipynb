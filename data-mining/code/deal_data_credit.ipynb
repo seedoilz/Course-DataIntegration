{
 "cells": [
  {
   "cell_type": "code",
   "execution_count": null,
   "metadata": {
    "collapsed": true,
    "ExecuteTime": {
     "start_time": "2023-04-23T11:42:54.982303Z",
     "end_time": "2023-04-23T11:42:54.986809Z"
    }
   },
   "outputs": [],
   "source": [
    "import pandas as pd"
   ]
  },
  {
   "cell_type": "code",
   "execution_count": null,
   "outputs": [],
   "source": [
    "df = pd.read_csv(\"./credit_original.csv\")\n",
    "df.head()"
   ],
   "metadata": {
    "collapsed": false,
    "ExecuteTime": {
     "start_time": "2023-04-23T11:43:13.590640Z",
     "end_time": "2023-04-23T11:43:14.805337Z"
    }
   }
  },
  {
   "cell_type": "code",
   "execution_count": null,
   "outputs": [],
   "source": [
    "for column in df.columns.to_list():\n",
    "    print(column,\":\")\n",
    "    missing_count = df[column].isnull().sum()\n",
    "    # print(missing_count)\n",
    "    total_count = 38309\n",
    "    # print(total_count)\n",
    "    missing_percent = missing_count / total_count\n",
    "    print(missing_percent)\n",
    "    if(missing_percent>0.7):\n",
    "        df = df.drop(column,axis=1)\n",
    "        print(\"deleted\\n\")"
   ],
   "metadata": {
    "collapsed": false,
    "ExecuteTime": {
     "start_time": "2023-04-23T11:59:20.914879Z",
     "end_time": "2023-04-23T11:59:30.737147Z"
    }
   }
  },
  {
   "cell_type": "code",
   "execution_count": null,
   "outputs": [],
   "source": [
    "for column in df.columns.to_list():\n",
    "    zero_count = len(df[df[column] == 0])\n",
    "    print('%s, 零值：%d' % (column, zero_count))\n",
    "    missing_percent = zero_count / 38309\n",
    "    if(missing_percent > 0.7):\n",
    "        df.drop(column,axis=1,inplace=True)\n",
    "        print(\"deleted\\n\")"
   ],
   "metadata": {
    "collapsed": false,
    "ExecuteTime": {
     "start_time": "2023-04-23T12:06:59.141771Z",
     "end_time": "2023-04-23T12:07:11.180851Z"
    }
   }
  },
  {
   "cell_type": "code",
   "execution_count": null,
   "outputs": [],
   "source": [
    "for column in df.columns.to_list():\n",
    "    print(column)\n",
    "    zero_count = len(df[df[column] == 0])\n",
    "    null_count = df[column].isnull().sum()\n",
    "    missing_count = zero_count + null_count\n",
    "    missing_percent = missing_count / 38309\n",
    "    if(missing_percent > 0.7):\n",
    "        df.drop(column,axis=1,inplace=True)\n",
    "        print(\"deleted\\n\")"
   ],
   "metadata": {
    "collapsed": false,
    "ExecuteTime": {
     "start_time": "2023-04-23T12:11:02.726577Z",
     "end_time": "2023-04-23T12:11:07.649085Z"
    }
   }
  },
  {
   "cell_type": "code",
   "execution_count": null,
   "outputs": [],
   "source": [
    "df.to_csv(\"./credit_blank.csv\")"
   ],
   "metadata": {
    "collapsed": false,
    "ExecuteTime": {
     "start_time": "2023-04-23T12:11:16.856948Z",
     "end_time": "2023-04-23T12:11:16.884695Z"
    }
   }
  },
  {
   "cell_type": "code",
   "execution_count": null,
   "outputs": [],
   "source": [
    "import pandas as pd"
   ],
   "metadata": {
    "collapsed": false,
    "ExecuteTime": {
     "start_time": "2023-04-23T12:13:35.418503Z",
     "end_time": "2023-04-23T12:13:35.433918Z"
    }
   }
  },
  {
   "cell_type": "code",
   "execution_count": null,
   "outputs": [],
   "source": [
    "df = pd.read_csv(\"./credit_blank.csv\")\n",
    "df"
   ],
   "metadata": {
    "collapsed": false,
    "ExecuteTime": {
     "start_time": "2023-04-23T12:13:52.421862Z",
     "end_time": "2023-04-23T12:13:52.916834Z"
    }
   }
  },
  {
   "cell_type": "code",
   "execution_count": null,
   "outputs": [],
   "source": [
    "for column in df.columns.to_list():\n",
    "    if df[column].dtype == 'object':\n",
    "        df[column].fillna(df[column].mode()[0], inplace=True)\n",
    "    else:\n",
    "        df[column].fillna(df[column].median(), inplace=True)\n",
    "df"
   ],
   "metadata": {
    "collapsed": false,
    "ExecuteTime": {
     "start_time": "2023-04-23T12:17:40.307761Z",
     "end_time": "2023-04-23T12:17:40.496229Z"
    }
   }
  },
  {
   "cell_type": "code",
   "execution_count": null,
   "outputs": [],
   "source": [
    "df.to_csv(\"./credit_fillna.csv\")"
   ],
   "metadata": {
    "collapsed": false,
    "ExecuteTime": {
     "start_time": "2023-04-23T12:18:41.476304Z",
     "end_time": "2023-04-23T12:18:43.583201Z"
    }
   }
  },
  {
   "cell_type": "code",
   "execution_count": null,
   "outputs": [],
   "source": [
    "import pandas as pd"
   ],
   "metadata": {
    "collapsed": false,
    "ExecuteTime": {
     "start_time": "2023-04-23T12:27:52.975516Z",
     "end_time": "2023-04-23T12:27:53.186176Z"
    }
   }
  },
  {
   "cell_type": "code",
   "execution_count": null,
   "outputs": [],
   "source": [
    "df = pd.read_csv(\"./credit_fillna.csv\")"
   ],
   "metadata": {
    "collapsed": false,
    "ExecuteTime": {
     "start_time": "2023-04-23T12:27:53.624431Z",
     "end_time": "2023-04-23T12:27:54.160083Z"
    }
   }
  },
  {
   "cell_type": "code",
   "execution_count": null,
   "outputs": [],
   "source": [
    "for column in df.columns.to_list():\n",
    "    if df[column].dtype != 'object' and column != 'credit_level':\n",
    "        print(column)\n",
    "        if(column == 'credit_level'):\n",
    "            print(\"error\")\n",
    "        if(column == 'uid'):\n",
    "            print(\"error\")\n",
    "        low = df[column].quantile(0.05)\n",
    "        high = df[column].quantile(0.95)\n",
    "        # 使用clip方法替换小于5%和大于95%的值\n",
    "        df[column] = df[column].clip(lower=low, upper=high)"
   ],
   "metadata": {
    "collapsed": false,
    "ExecuteTime": {
     "start_time": "2023-04-23T12:28:06.748978Z",
     "end_time": "2023-04-23T12:28:07.413698Z"
    }
   }
  },
  {
   "cell_type": "code",
   "execution_count": null,
   "outputs": [],
   "source": [
    "df.drop(columns='Unnamed: 0.1',axis=1,inplace=True)\n",
    "df.drop(columns='Unnamed: 0',axis=1,inplace=True)\n",
    "df"
   ],
   "metadata": {
    "collapsed": false,
    "ExecuteTime": {
     "start_time": "2023-04-23T12:30:37.062073Z",
     "end_time": "2023-04-23T12:30:37.159829Z"
    }
   }
  },
  {
   "cell_type": "code",
   "execution_count": null,
   "outputs": [],
   "source": [
    "df.to_csv(\"./credit_error_data.csv\")"
   ],
   "metadata": {
    "collapsed": false,
    "ExecuteTime": {
     "start_time": "2023-04-23T12:31:36.979829Z",
     "end_time": "2023-04-23T12:31:39.128251Z"
    }
   }
  },
  {
   "cell_type": "code",
   "execution_count": null,
   "outputs": [],
   "source": [
    "import pandas as pd\n",
    "from sklearn.preprocessing import LabelEncoder"
   ],
   "metadata": {
    "collapsed": false,
    "ExecuteTime": {
     "start_time": "2023-04-23T13:08:04.161953Z",
     "end_time": "2023-04-23T13:08:04.643719Z"
    }
   }
  },
  {
   "cell_type": "code",
   "execution_count": null,
   "outputs": [],
   "source": [
    "df = pd.read_csv(\"./credit_error_data.csv\",dtype=None)\n",
    "print(df.dtypes)"
   ],
   "metadata": {
    "collapsed": false,
    "ExecuteTime": {
     "start_time": "2023-04-23T13:08:05.222240Z",
     "end_time": "2023-04-23T13:08:05.785245Z"
    }
   }
  },
  {
   "cell_type": "code",
   "execution_count": null,
   "outputs": [],
   "source": [
    "df['MODE(dm_v_tr_huanb_mx.tran_type)'] = pd.to_numeric(df['MODE(dm_v_tr_huanb_mx.tran_type)'],errors=\"coerce\")\n",
    "df['MODE(dm_v_tr_huanb_mx.tran_type)'] = df['MODE(dm_v_tr_huanb_mx.tran_type)'].astype(float)\n",
    "print(df['MODE(dm_v_tr_huanb_mx.tran_type)'].unique())\n",
    "df['MODE(dm_v_tr_huanb_mx.tran_type)'] = df['MODE(dm_v_tr_huanb_mx.tran_type)'].fillna(0.0)\n",
    "print(df['MODE(dm_v_tr_huanb_mx.tran_type)'].unique())"
   ],
   "metadata": {
    "collapsed": false,
    "ExecuteTime": {
     "start_time": "2023-04-23T13:11:45.339466Z",
     "end_time": "2023-04-23T13:11:45.351707Z"
    }
   }
  },
  {
   "cell_type": "code",
   "execution_count": null,
   "outputs": [],
   "source": [
    "\n",
    "for column in df.columns.to_list():\n",
    "    print(column)\n",
    "    print(df[column].dtype)\n",
    "    if column != 'uid' and df[column].dtype == 'object':\n",
    "        print(column)\n",
    "        encoder= LabelEncoder().fit(df[column])\n",
    "        df[column] = encoder.transform(df[column])\n",
    "df.head()"
   ],
   "metadata": {
    "collapsed": false,
    "ExecuteTime": {
     "start_time": "2023-04-23T13:11:50.730334Z",
     "end_time": "2023-04-23T13:11:51.265778Z"
    }
   }
  },
  {
   "cell_type": "code",
   "execution_count": null,
   "outputs": [],
   "source": [
    "df.to_csv(\"./credit_encoded.csv\")"
   ],
   "metadata": {
    "collapsed": false,
    "ExecuteTime": {
     "start_time": "2023-04-23T13:12:19.025077Z",
     "end_time": "2023-04-23T13:12:21.025098Z"
    }
   }
  },
  {
   "cell_type": "code",
   "execution_count": null,
   "outputs": [],
   "source": [
    "import pandas as pd\n",
    "from sklearn.preprocessing import StandardScaler"
   ],
   "metadata": {
    "collapsed": false,
    "ExecuteTime": {
     "start_time": "2023-04-23T13:13:12.773709Z",
     "end_time": "2023-04-23T13:13:13.437679Z"
    }
   }
  },
  {
   "cell_type": "code",
   "execution_count": null,
   "outputs": [],
   "source": [
    "scaler = StandardScaler()\n",
    "df = pd.read_csv(\"./credit_encoded.csv\",dtype=None)\n",
    "df_columns = df.columns.to_list()\n",
    "df_columns.remove('uid')\n",
    "df_columns.remove('credit_level')\n",
    "print(df_columns)\n",
    "df[df_columns] = scaler.fit_transform(df[df_columns])\n",
    "df.head()"
   ],
   "metadata": {
    "collapsed": false,
    "ExecuteTime": {
     "start_time": "2023-04-23T13:17:31.576101Z",
     "end_time": "2023-04-23T13:17:32.414882Z"
    }
   }
  },
  {
   "cell_type": "code",
   "execution_count": null,
   "outputs": [],
   "source": [
    "df.drop('Unnamed: 0.1',axis=1, inplace=True)\n",
    "df.drop('Unnamed: 0',axis=1, inplace=True)\n",
    "df.to_csv(\"./credit_final.csv\")"
   ],
   "metadata": {
    "collapsed": false,
    "ExecuteTime": {
     "start_time": "2023-04-23T13:19:32.682447Z",
     "end_time": "2023-04-23T13:19:37.251988Z"
    }
   }
  },
  {
   "cell_type": "code",
   "execution_count": 1,
   "outputs": [],
   "source": [
    "import pandas as pd"
   ],
   "metadata": {
    "collapsed": false,
    "ExecuteTime": {
     "start_time": "2023-04-23T13:37:00.224203Z",
     "end_time": "2023-04-23T13:37:00.432215Z"
    }
   }
  },
  {
   "cell_type": "code",
   "execution_count": 2,
   "outputs": [
    {
     "data": {
      "text/plain": "       Unnamed: 0                 uid  credit_level  \\\n0               0  140922197806126391            -1   \n1               1  142230198701044099            -1   \n2               2  320511197112153312            60   \n3               3  320825197205134342            60   \n4               4  320911195212301370            -1   \n...           ...                 ...           ...   \n38304       38304  654123198611223715            60   \n38305       38305  654123199102253734            60   \n38306       38306  654323197108173972            85   \n38307       38307  654324198004269794            60   \n38308       38308  654326198608203393            60   \n\n       COUNT(dm_v_tr_contract_mx)  MAX(dm_v_tr_contract_mx.buss_amt)  \\\n0                        1.123142                           0.939963   \n1                       -0.582244                           0.329502   \n2                       -0.582244                           1.618251   \n3                       -0.582244                          -0.735411   \n4                       -0.155897                           1.753909   \n...                           ...                                ...   \n38304                   -0.582244                          -0.077471   \n38305                    2.828528                           0.600818   \n38306                   -0.155897                          -0.552273   \n38307                   -0.155897                           0.939963   \n38308                   -0.582244                           0.939963   \n\n       MAX(dm_v_tr_contract_mx.term_mth)  MEAN(dm_v_tr_contract_mx.buss_amt)  \\\n0                              -0.331844                            0.554726   \n1                               3.430277                            0.638037   \n2                               3.430277                            2.220947   \n3                              -0.331844                           -0.669947   \n4                               0.295176                            2.387569   \n...                                  ...                                 ...   \n38304                          -0.331844                            0.138171   \n38305                          -0.331844                           -0.791068   \n38306                          -0.331844                           -0.445007   \n38307                          -0.331844                            1.387836   \n38308                          -0.671480                            1.387836   \n\n       MEAN(dm_v_tr_contract_mx.term_mth)  MIN(dm_v_tr_contract_mx.buss_amt)  \\\n0                               -0.576317                          -0.920444   \n1                                3.284679                           1.094507   \n2                                3.284679                           1.992257   \n3                               -0.117317                          -0.471569   \n4                                0.854681                           1.992257   \n...                                   ...                                ...   \n38304                           -0.137567                           0.496007   \n38305                           -0.126664                          -0.920444   \n38306                           -0.144317                          -0.202244   \n38307                           -0.117317                           1.992257   \n38308                           -1.008316                           1.992257   \n\n       MIN(dm_v_tr_contract_mx.term_mth)  ...  \\\n0                              -0.430715  ...   \n1                               3.622202  ...   \n2                               3.622202  ...   \n3                               0.189630  ...   \n4                               1.182181  ...   \n...                                  ...  ...   \n38304                           0.148273  ...   \n38305                           0.148273  ...   \n38306                           0.106917  ...   \n38307                           0.189630  ...   \n38308                          -0.802921  ...   \n\n       SUM(dm_v_tr_gzdf_mx. is_secu_card)  SUM(dm_v_tr_gzdf_mx. tran_amt)  \\\n0                               -0.531118                       -0.439538   \n1                               -0.531118                       -0.439538   \n2                               -0.531118                       -0.439538   \n3                               -0.531118                       -0.439538   \n4                               -0.531118                       -0.439538   \n...                                   ...                             ...   \n38304                           -0.531118                       -0.439538   \n38305                           -0.531118                       -0.439538   \n38306                           -0.531118                       -0.439538   \n38307                           -0.531118                       -0.439538   \n38308                            0.043539                        0.299877   \n\n       COUNT(dm_v_tr_sbyb_mx)  MODE(dm_v_tr_sbyb_mx. tran_sts)  \\\n0                   -0.464234                         -0.25887   \n1                   -0.464234                         -0.25887   \n2                    3.817438                         -0.25887   \n3                   -0.464234                         -0.25887   \n4                   -0.464234                         -0.25887   \n...                       ...                              ...   \n38304               -0.464234                         -0.25887   \n38305               -0.464234                         -0.25887   \n38306               -0.464234                         -0.25887   \n38307               -0.464234                         -0.25887   \n38308               -0.464234                         -0.25887   \n\n       NUM_UNIQUE(dm_v_tr_sbyb_mx. tran_sts)  COUNT(pri_cust_liab_info)  \\\n0                                  -0.261501                  -0.686540   \n1                                  -0.261501                   1.565114   \n2                                  -0.261501                   2.179201   \n3                                  -0.261501                   2.032990   \n4                                  -0.261501                  -0.686540   \n...                                      ...                        ...   \n38304                              -0.261501                  -0.686540   \n38305                              -0.261501                  -0.686540   \n38306                              -0.261501                  -0.686540   \n38307                              -0.261501                   1.272691   \n38308                              -0.261501                   0.483150   \n\n       MAX(pri_cust_liab_info.all_bal)  MEAN(pri_cust_liab_info.all_bal)  \\\n0                            -0.112559                         -0.192058   \n1                             0.457392                          0.757440   \n2                             2.336421                          2.595417   \n3                            -1.322279                         -1.237120   \n4                            -0.112559                         -0.192058   \n...                                ...                               ...   \n38304                        -0.112559                         -0.192058   \n38305                        -0.112559                         -0.192058   \n38306                        -0.112559                         -0.192058   \n38307                         1.758142                          2.150453   \n38308                         1.758142                          2.150453   \n\n       MIN(pri_cust_liab_info.all_bal)  SUM(pri_cust_liab_info.all_bal)  \n0                            -0.215765                        -0.515526  \n1                             1.071325                         1.468725  \n2                             2.726543                         3.120927  \n3                            -1.312149                         0.008800  \n4                            -0.215765                        -0.515526  \n...                                ...                              ...  \n38304                        -0.215765                        -0.515526  \n38305                        -0.215765                        -0.515526  \n38306                        -0.215765                        -0.515526  \n38307                         2.643551                         2.153051  \n38308                         2.643551                         1.077654  \n\n[38309 rows x 219 columns]",
      "text/html": "<div>\n<style scoped>\n    .dataframe tbody tr th:only-of-type {\n        vertical-align: middle;\n    }\n\n    .dataframe tbody tr th {\n        vertical-align: top;\n    }\n\n    .dataframe thead th {\n        text-align: right;\n    }\n</style>\n<table border=\"1\" class=\"dataframe\">\n  <thead>\n    <tr style=\"text-align: right;\">\n      <th></th>\n      <th>Unnamed: 0</th>\n      <th>uid</th>\n      <th>credit_level</th>\n      <th>COUNT(dm_v_tr_contract_mx)</th>\n      <th>MAX(dm_v_tr_contract_mx.buss_amt)</th>\n      <th>MAX(dm_v_tr_contract_mx.term_mth)</th>\n      <th>MEAN(dm_v_tr_contract_mx.buss_amt)</th>\n      <th>MEAN(dm_v_tr_contract_mx.term_mth)</th>\n      <th>MIN(dm_v_tr_contract_mx.buss_amt)</th>\n      <th>MIN(dm_v_tr_contract_mx.term_mth)</th>\n      <th>...</th>\n      <th>SUM(dm_v_tr_gzdf_mx. is_secu_card)</th>\n      <th>SUM(dm_v_tr_gzdf_mx. tran_amt)</th>\n      <th>COUNT(dm_v_tr_sbyb_mx)</th>\n      <th>MODE(dm_v_tr_sbyb_mx. tran_sts)</th>\n      <th>NUM_UNIQUE(dm_v_tr_sbyb_mx. tran_sts)</th>\n      <th>COUNT(pri_cust_liab_info)</th>\n      <th>MAX(pri_cust_liab_info.all_bal)</th>\n      <th>MEAN(pri_cust_liab_info.all_bal)</th>\n      <th>MIN(pri_cust_liab_info.all_bal)</th>\n      <th>SUM(pri_cust_liab_info.all_bal)</th>\n    </tr>\n  </thead>\n  <tbody>\n    <tr>\n      <th>0</th>\n      <td>0</td>\n      <td>140922197806126391</td>\n      <td>-1</td>\n      <td>1.123142</td>\n      <td>0.939963</td>\n      <td>-0.331844</td>\n      <td>0.554726</td>\n      <td>-0.576317</td>\n      <td>-0.920444</td>\n      <td>-0.430715</td>\n      <td>...</td>\n      <td>-0.531118</td>\n      <td>-0.439538</td>\n      <td>-0.464234</td>\n      <td>-0.25887</td>\n      <td>-0.261501</td>\n      <td>-0.686540</td>\n      <td>-0.112559</td>\n      <td>-0.192058</td>\n      <td>-0.215765</td>\n      <td>-0.515526</td>\n    </tr>\n    <tr>\n      <th>1</th>\n      <td>1</td>\n      <td>142230198701044099</td>\n      <td>-1</td>\n      <td>-0.582244</td>\n      <td>0.329502</td>\n      <td>3.430277</td>\n      <td>0.638037</td>\n      <td>3.284679</td>\n      <td>1.094507</td>\n      <td>3.622202</td>\n      <td>...</td>\n      <td>-0.531118</td>\n      <td>-0.439538</td>\n      <td>-0.464234</td>\n      <td>-0.25887</td>\n      <td>-0.261501</td>\n      <td>1.565114</td>\n      <td>0.457392</td>\n      <td>0.757440</td>\n      <td>1.071325</td>\n      <td>1.468725</td>\n    </tr>\n    <tr>\n      <th>2</th>\n      <td>2</td>\n      <td>320511197112153312</td>\n      <td>60</td>\n      <td>-0.582244</td>\n      <td>1.618251</td>\n      <td>3.430277</td>\n      <td>2.220947</td>\n      <td>3.284679</td>\n      <td>1.992257</td>\n      <td>3.622202</td>\n      <td>...</td>\n      <td>-0.531118</td>\n      <td>-0.439538</td>\n      <td>3.817438</td>\n      <td>-0.25887</td>\n      <td>-0.261501</td>\n      <td>2.179201</td>\n      <td>2.336421</td>\n      <td>2.595417</td>\n      <td>2.726543</td>\n      <td>3.120927</td>\n    </tr>\n    <tr>\n      <th>3</th>\n      <td>3</td>\n      <td>320825197205134342</td>\n      <td>60</td>\n      <td>-0.582244</td>\n      <td>-0.735411</td>\n      <td>-0.331844</td>\n      <td>-0.669947</td>\n      <td>-0.117317</td>\n      <td>-0.471569</td>\n      <td>0.189630</td>\n      <td>...</td>\n      <td>-0.531118</td>\n      <td>-0.439538</td>\n      <td>-0.464234</td>\n      <td>-0.25887</td>\n      <td>-0.261501</td>\n      <td>2.032990</td>\n      <td>-1.322279</td>\n      <td>-1.237120</td>\n      <td>-1.312149</td>\n      <td>0.008800</td>\n    </tr>\n    <tr>\n      <th>4</th>\n      <td>4</td>\n      <td>320911195212301370</td>\n      <td>-1</td>\n      <td>-0.155897</td>\n      <td>1.753909</td>\n      <td>0.295176</td>\n      <td>2.387569</td>\n      <td>0.854681</td>\n      <td>1.992257</td>\n      <td>1.182181</td>\n      <td>...</td>\n      <td>-0.531118</td>\n      <td>-0.439538</td>\n      <td>-0.464234</td>\n      <td>-0.25887</td>\n      <td>-0.261501</td>\n      <td>-0.686540</td>\n      <td>-0.112559</td>\n      <td>-0.192058</td>\n      <td>-0.215765</td>\n      <td>-0.515526</td>\n    </tr>\n    <tr>\n      <th>...</th>\n      <td>...</td>\n      <td>...</td>\n      <td>...</td>\n      <td>...</td>\n      <td>...</td>\n      <td>...</td>\n      <td>...</td>\n      <td>...</td>\n      <td>...</td>\n      <td>...</td>\n      <td>...</td>\n      <td>...</td>\n      <td>...</td>\n      <td>...</td>\n      <td>...</td>\n      <td>...</td>\n      <td>...</td>\n      <td>...</td>\n      <td>...</td>\n      <td>...</td>\n      <td>...</td>\n    </tr>\n    <tr>\n      <th>38304</th>\n      <td>38304</td>\n      <td>654123198611223715</td>\n      <td>60</td>\n      <td>-0.582244</td>\n      <td>-0.077471</td>\n      <td>-0.331844</td>\n      <td>0.138171</td>\n      <td>-0.137567</td>\n      <td>0.496007</td>\n      <td>0.148273</td>\n      <td>...</td>\n      <td>-0.531118</td>\n      <td>-0.439538</td>\n      <td>-0.464234</td>\n      <td>-0.25887</td>\n      <td>-0.261501</td>\n      <td>-0.686540</td>\n      <td>-0.112559</td>\n      <td>-0.192058</td>\n      <td>-0.215765</td>\n      <td>-0.515526</td>\n    </tr>\n    <tr>\n      <th>38305</th>\n      <td>38305</td>\n      <td>654123199102253734</td>\n      <td>60</td>\n      <td>2.828528</td>\n      <td>0.600818</td>\n      <td>-0.331844</td>\n      <td>-0.791068</td>\n      <td>-0.126664</td>\n      <td>-0.920444</td>\n      <td>0.148273</td>\n      <td>...</td>\n      <td>-0.531118</td>\n      <td>-0.439538</td>\n      <td>-0.464234</td>\n      <td>-0.25887</td>\n      <td>-0.261501</td>\n      <td>-0.686540</td>\n      <td>-0.112559</td>\n      <td>-0.192058</td>\n      <td>-0.215765</td>\n      <td>-0.515526</td>\n    </tr>\n    <tr>\n      <th>38306</th>\n      <td>38306</td>\n      <td>654323197108173972</td>\n      <td>85</td>\n      <td>-0.155897</td>\n      <td>-0.552273</td>\n      <td>-0.331844</td>\n      <td>-0.445007</td>\n      <td>-0.144317</td>\n      <td>-0.202244</td>\n      <td>0.106917</td>\n      <td>...</td>\n      <td>-0.531118</td>\n      <td>-0.439538</td>\n      <td>-0.464234</td>\n      <td>-0.25887</td>\n      <td>-0.261501</td>\n      <td>-0.686540</td>\n      <td>-0.112559</td>\n      <td>-0.192058</td>\n      <td>-0.215765</td>\n      <td>-0.515526</td>\n    </tr>\n    <tr>\n      <th>38307</th>\n      <td>38307</td>\n      <td>654324198004269794</td>\n      <td>60</td>\n      <td>-0.155897</td>\n      <td>0.939963</td>\n      <td>-0.331844</td>\n      <td>1.387836</td>\n      <td>-0.117317</td>\n      <td>1.992257</td>\n      <td>0.189630</td>\n      <td>...</td>\n      <td>-0.531118</td>\n      <td>-0.439538</td>\n      <td>-0.464234</td>\n      <td>-0.25887</td>\n      <td>-0.261501</td>\n      <td>1.272691</td>\n      <td>1.758142</td>\n      <td>2.150453</td>\n      <td>2.643551</td>\n      <td>2.153051</td>\n    </tr>\n    <tr>\n      <th>38308</th>\n      <td>38308</td>\n      <td>654326198608203393</td>\n      <td>60</td>\n      <td>-0.582244</td>\n      <td>0.939963</td>\n      <td>-0.671480</td>\n      <td>1.387836</td>\n      <td>-1.008316</td>\n      <td>1.992257</td>\n      <td>-0.802921</td>\n      <td>...</td>\n      <td>0.043539</td>\n      <td>0.299877</td>\n      <td>-0.464234</td>\n      <td>-0.25887</td>\n      <td>-0.261501</td>\n      <td>0.483150</td>\n      <td>1.758142</td>\n      <td>2.150453</td>\n      <td>2.643551</td>\n      <td>1.077654</td>\n    </tr>\n  </tbody>\n</table>\n<p>38309 rows × 219 columns</p>\n</div>"
     },
     "execution_count": 2,
     "metadata": {},
     "output_type": "execute_result"
    }
   ],
   "source": [
    "df = pd.read_csv(\"./credit_final.csv\")\n",
    "df"
   ],
   "metadata": {
    "collapsed": false,
    "ExecuteTime": {
     "start_time": "2023-04-23T13:37:18.422711Z",
     "end_time": "2023-04-23T13:37:19.209328Z"
    }
   }
  },
  {
   "cell_type": "code",
   "execution_count": null,
   "outputs": [],
   "source": [],
   "metadata": {
    "collapsed": false
   }
  }
 ],
 "metadata": {
  "kernelspec": {
   "display_name": "Python 3",
   "language": "python",
   "name": "python3"
  },
  "language_info": {
   "codemirror_mode": {
    "name": "ipython",
    "version": 2
   },
   "file_extension": ".py",
   "mimetype": "text/x-python",
   "name": "python",
   "nbconvert_exporter": "python",
   "pygments_lexer": "ipython2",
   "version": "2.7.6"
  }
 },
 "nbformat": 4,
 "nbformat_minor": 0
}
